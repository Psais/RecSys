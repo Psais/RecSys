{
 "cells": [
  {
   "cell_type": "code",
   "execution_count": 1,
   "id": "05e8fc52-ed33-4caa-85c5-a2c259606479",
   "metadata": {},
   "outputs": [],
   "source": [
    "import pandas as pd\n",
    "import numpy as np\n",
    "import os\n",
    "import zipfile\n",
    "import csv\n",
    "import requests\n",
    "import json\n",
    "from itertools import islice\n",
    "from lightfm.data import Dataset\n",
    "from lightfm import LightFM\n",
    "data_url = \"https://raw.githubusercontent.com/zygmuntz/goodbooks-10k/master/\"\n",
    "from lightfm.evaluation import auc_score"
   ]
  },
  {
   "cell_type": "code",
   "execution_count": 3,
   "id": "cc448e75-33a0-4bfb-aa6c-7118281310ca",
   "metadata": {},
   "outputs": [],
   "source": [
    "def _download(url: str, dest_path: str):\n",
    "\n",
    "    req = requests.get(url, stream=True)\n",
    "    req.raise_for_status()\n",
    "\n",
    "    with open(dest_path, \"wb\") as fd:\n",
    "        for chunk in req.iter_content(chunk_size=2 ** 20):\n",
    "            fd.write(chunk)\n",
    "\n",
    "\n",
    "def get_data(string):\n",
    "\n",
    "    dat_string =  string + \".csv\"\n",
    "    ratings_url = data_url + dat_string\n",
    "    dest_path = \"data/\" + string + \".csv\"\n",
    "\n",
    "    if not os.path.exists(\"data\"):\n",
    "        os.makedirs(\"data\")\n",
    "        \n",
    "        _download(ratings_url, dest_path)\n",
    "    else:\n",
    "        if not os.path.exists(dest_path):\n",
    "            _download(ratings_url, dest_path)\n",
    "    \n",
    "    with open(dest_path, \"r\") as dat:\n",
    "        dat = [x for x in csv.DictReader(dat)] \n",
    "        return dat\n",
    "\n",
    "\n",
    "def get_ratings():\n",
    "\n",
    "    return get_data(\"ratings\")\n",
    "\n",
    "def get_book_features():\n",
    "\n",
    "    return get_data(\"books\")"
   ]
  },
  {
   "cell_type": "code",
   "execution_count": 5,
   "id": "a900cd62-f2e0-4575-a2ca-aefd6af64b08",
   "metadata": {},
   "outputs": [],
   "source": [
    "ratings, book_features = get_ratings(), get_book_features()"
   ]
  },
  {
   "cell_type": "code",
   "execution_count": 7,
   "id": "130544dd-0dec-4422-86be-de7a96049157",
   "metadata": {},
   "outputs": [
    {
     "name": "stdout",
     "output_type": "stream",
     "text": [
      "{\n",
      "    \"user_id\": \"1\",\n",
      "    \"book_id\": \"258\",\n",
      "    \"rating\": \"5\"\n",
      "}\n",
      "{\n",
      "    \"user_id\": \"2\",\n",
      "    \"book_id\": \"4081\",\n",
      "    \"rating\": \"4\"\n",
      "}\n"
     ]
    }
   ],
   "source": [
    "for line in islice(ratings, 2):\n",
    "    print(json.dumps(line, indent=4))"
   ]
  },
  {
   "cell_type": "code",
   "execution_count": 9,
   "id": "52f7ad81-4080-4fca-add0-02888f31db7d",
   "metadata": {},
   "outputs": [
    {
     "name": "stdout",
     "output_type": "stream",
     "text": [
      "{\n",
      "    \"book_id\": \"1\",\n",
      "    \"goodreads_book_id\": \"2767052\",\n",
      "    \"best_book_id\": \"2767052\",\n",
      "    \"work_id\": \"2792775\",\n",
      "    \"books_count\": \"272\",\n",
      "    \"isbn\": \"439023483\",\n",
      "    \"isbn13\": \"9.78043902348e+12\",\n",
      "    \"authors\": \"Suzanne Collins\",\n",
      "    \"original_publication_year\": \"2008.0\",\n",
      "    \"original_title\": \"The Hunger Games\",\n",
      "    \"title\": \"The Hunger Games (The Hunger Games, #1)\",\n",
      "    \"language_code\": \"eng\",\n",
      "    \"average_rating\": \"4.34\",\n",
      "    \"ratings_count\": \"4780653\",\n",
      "    \"work_ratings_count\": \"4942365\",\n",
      "    \"work_text_reviews_count\": \"155254\",\n",
      "    \"ratings_1\": \"66715\",\n",
      "    \"ratings_2\": \"127936\",\n",
      "    \"ratings_3\": \"560092\",\n",
      "    \"ratings_4\": \"1481305\",\n",
      "    \"ratings_5\": \"2706317\",\n",
      "    \"image_url\": \"https://images.gr-assets.com/books/1447303603m/2767052.jpg\",\n",
      "    \"small_image_url\": \"https://images.gr-assets.com/books/1447303603s/2767052.jpg\"\n",
      "}\n"
     ]
    }
   ],
   "source": [
    "for line in islice(book_features, 1):\n",
    "    print(json.dumps(line, indent=4))"
   ]
  },
  {
   "cell_type": "code",
   "execution_count": 11,
   "id": "a9868620-0956-43e0-9ff4-147126bcbb9a",
   "metadata": {},
   "outputs": [],
   "source": [
    "dataset = Dataset()\n",
    "dataset.fit((x['user_id'] for x in ratings),\n",
    "            (x['book_id'] for x in ratings),\n",
    "            (x['rating'] for x in ratings))"
   ]
  },
  {
   "cell_type": "code",
   "execution_count": 13,
   "id": "83d39062-75ad-43fc-be56-fdd2cad36290",
   "metadata": {},
   "outputs": [
    {
     "name": "stdout",
     "output_type": "stream",
     "text": [
      "Num users: 53424, num_items 10000.\n"
     ]
    }
   ],
   "source": [
    "num_users, num_items = dataset.interactions_shape()\n",
    "print('Num users: {}, num_items {}.'.format(num_users, num_items))"
   ]
  },
  {
   "cell_type": "code",
   "execution_count": 15,
   "id": "fa4a1e03-1f21-4ad6-a57d-0e9836b242ab",
   "metadata": {},
   "outputs": [],
   "source": [
    "dataset.fit_partial(items=(x['book_id'] for x in book_features),\n",
    "                    item_features=(x['authors'] for x in book_features))"
   ]
  },
  {
   "cell_type": "code",
   "execution_count": 17,
   "id": "87be9fcf-af52-45b6-bad4-c58978c8df7a",
   "metadata": {},
   "outputs": [],
   "source": [
    "(interactions, weights) = dataset.build_interactions((x['user_id'], x['book_id'], int(x['rating'])) \n",
    "                                                      for x in ratings)"
   ]
  },
  {
   "cell_type": "code",
   "execution_count": 19,
   "id": "e7848599-5ecf-4884-b4a1-b99a996b2153",
   "metadata": {},
   "outputs": [
    {
     "name": "stdout",
     "output_type": "stream",
     "text": [
      "<53424x10000 sparse matrix of type '<class 'numpy.int32'>'\n",
      "\twith 5976479 stored elements in COOrdinate format>\n"
     ]
    }
   ],
   "source": [
    "print(repr(interactions))"
   ]
  },
  {
   "cell_type": "code",
   "execution_count": 23,
   "id": "72b1d1c5-3b5b-4ba7-ab5d-b4339a047825",
   "metadata": {},
   "outputs": [],
   "source": [
    "item_features = dataset.build_item_features(((x['book_id']), [x['authors']])\n",
    "                                              for x in book_features)"
   ]
  },
  {
   "cell_type": "code",
   "execution_count": 25,
   "id": "27bfb87d-6e60-4c87-b17e-4fbc7f6abf55",
   "metadata": {},
   "outputs": [
    {
     "name": "stdout",
     "output_type": "stream",
     "text": [
      "<10000x14664 sparse matrix of type '<class 'numpy.float32'>'\n",
      "\twith 20000 stored elements in Compressed Sparse Row format>\n"
     ]
    }
   ],
   "source": [
    "print(repr(item_features))"
   ]
  },
  {
   "cell_type": "code",
   "execution_count": 27,
   "id": "5b0171f5-06b6-40e1-8ff2-cd502ade952d",
   "metadata": {},
   "outputs": [],
   "source": [
    "mapping = dataset.mapping()\n",
    "\n",
    "def inv_dict(dicti):\n",
    "    return dict(zip(dicti.values(), dicti.keys()))\n",
    "    \n",
    "inv_mapping = [inv_dict(x) for x in mapping]"
   ]
  },
  {
   "cell_type": "code",
   "execution_count": 110,
   "id": "666d57e8-110a-40b2-8c29-a3c45fe9e317",
   "metadata": {},
   "outputs": [
    {
     "data": {
      "text/plain": [
       "<lightfm.lightfm.LightFM at 0x7f2a00f58190>"
      ]
     },
     "execution_count": 110,
     "metadata": {},
     "output_type": "execute_result"
    }
   ],
   "source": [
    "model = LightFM(no_components = 16, loss='warp')\n",
    "model.fit(interactions, item_features = item_features, sample_weight = weights)"
   ]
  },
  {
   "cell_type": "code",
   "execution_count": 112,
   "id": "b71274bb-dfaa-43fb-9ce2-6295aca7bbc3",
   "metadata": {},
   "outputs": [
    {
     "name": "stdout",
     "output_type": "stream",
     "text": [
      "AUC: train 0.92\n"
     ]
    }
   ],
   "source": [
    "train_auc = auc_score(model, interactions, item_features = item_features).mean()\n",
    "print('AUC: train %.2f' % (train_auc))"
   ]
  },
  {
   "cell_type": "code",
   "execution_count": 114,
   "id": "8688b1f1-ce00-4e49-8f9d-f5548e2ff9d7",
   "metadata": {},
   "outputs": [],
   "source": [
    "def get_predictions(user_ids, model, weights, item_features):\n",
    "    num_users, num_items = weights.shape\n",
    "\n",
    "    weight = weights.tocsr()\n",
    "        \n",
    "    for user_id in user_ids:\n",
    "        user_id = str(user_id)\n",
    "        in_map = mapping[0][user_id]\n",
    "    \n",
    "    \n",
    "        user_row = weights.tocsr()[in_map, 0:].toarray()[0,]\n",
    "        scores = model.predict(mapping[0][user_id], np.arange(num_items))\n",
    "        known_read = [book_features[int(inv_mapping[2][x])-1]['title'] for x in range(num_items) if weight[in_map ,x] > 0]\n",
    "        top_items = [book_features[int(inv_mapping[2][x])-1]['title'] for x in np.argsort(-scores)] \n",
    "\n",
    "        known_read_set = set(known_read)\n",
    "    \n",
    "        print(f\"User {user_id}\")\n",
    "        print(\"     Known positives:\")\n",
    "\n",
    "        for x in known_read[:5] :\n",
    "            print(f\"        {x}\")\n",
    "    \n",
    "        print(\"     Recommended:\")\n",
    "\n",
    "        count = 0\n",
    "        for x in top_items:\n",
    "            if x not in known_read_set:\n",
    "                print(f\"        {x}\")\n",
    "                count+=1\n",
    "            if count == 5:\n",
    "                break"
   ]
  },
  {
   "cell_type": "code",
   "execution_count": 116,
   "id": "b4c05731-5b1f-4922-9738-b5d912339797",
   "metadata": {},
   "outputs": [
    {
     "name": "stdout",
     "output_type": "stream",
     "text": [
      "User 90\n",
      "     Known positives:\n",
      "        Ender's Game (Ender's Saga, #1)\n",
      "        The Sun Also Rises\n",
      "        The Alchemist\n",
      "        The Adventures of Huckleberry Finn\n",
      "        The Catcher in the Rye\n",
      "     Recommended:\n",
      "        Little Women (Little Women, #1)\n",
      "        The Great Gatsby\n",
      "        Slaughterhouse-Five\n",
      "        Animal Farm\n",
      "        My Sister's Keeper\n",
      "User 92\n",
      "     Known positives:\n",
      "        Ender's Game (Ender's Saga, #1)\n",
      "        The Alchemist\n",
      "        Slaughterhouse-Five\n",
      "        Holy Cow: An Indian Adventure\n",
      "        Speaker for the Dead (Ender's Saga, #2)\n",
      "     Recommended:\n",
      "        Brave New World\n",
      "        Animal Farm\n",
      "        Dune (Dune Chronicles #1)\n",
      "        Good Omens: The Nice and Accurate Prophecies of Agnes Nutter, Witch\n",
      "        A Game of Thrones (A Song of Ice and Fire, #1)\n"
     ]
    }
   ],
   "source": [
    "get_predictions([90, 92], model, weights, item_features)"
   ]
  },
  {
   "cell_type": "code",
   "execution_count": 81,
   "id": "c5d4b2de-62cd-4f76-944e-75740b95414b",
   "metadata": {},
   "outputs": [
    {
     "name": "stdout",
     "output_type": "stream",
     "text": [
      "The Hunger Games (The Hunger Games, #1)\n",
      "Harry Potter and the Sorcerer's Stone (Harry Potter, #1)\n",
      "Twilight (Twilight, #1)\n",
      "To Kill a Mockingbird\n",
      "The Great Gatsby\n",
      "The Fault in Our Stars\n",
      "The Hobbit\n",
      "The Catcher in the Rye\n",
      "Angels & Demons  (Robert Langdon, #1)\n",
      "Pride and Prejudice\n"
     ]
    }
   ],
   "source": [
    "for i in book_features[:10]:\n",
    "    print(i['title'])"
   ]
  }
 ],
 "metadata": {
  "kernelspec": {
   "display_name": "Python 3 (ipykernel)",
   "language": "python",
   "name": "python3"
  },
  "language_info": {
   "codemirror_mode": {
    "name": "ipython",
    "version": 3
   },
   "file_extension": ".py",
   "mimetype": "text/x-python",
   "name": "python",
   "nbconvert_exporter": "python",
   "pygments_lexer": "ipython3",
   "version": "3.11.7"
  }
 },
 "nbformat": 4,
 "nbformat_minor": 5
}
